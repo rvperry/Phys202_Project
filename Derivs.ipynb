{
 "cells": [
  {
   "cell_type": "markdown",
   "metadata": {},
   "source": [
    "$$ \\boldsymbol{\\ddot{r}}=-\\gamma \\left(\\frac{M}{r^3}\\boldsymbol{r}-\\frac{S}{\\rho^3}\\rho+\\frac{S}{R^3}R\\right) $$\n",
    "\n",
    "$$ \\ddot{R}=-\\gamma\\frac{M+S}{R^3}{R} $$"
   ]
  },
  {
   "cell_type": "code",
   "execution_count": 245,
   "metadata": {
    "collapsed": false
   },
   "outputs": [],
   "source": [
    "%matplotlib inline\n",
    "import matplotlib.pyplot as plt\n",
    "import numpy as np\n",
    "from scipy.integrate import odeint\n",
    "from IPython.html.widgets import interact, fixed"
   ]
  },
  {
   "cell_type": "code",
   "execution_count": 246,
   "metadata": {
    "collapsed": false
   },
   "outputs": [],
   "source": [
    "gamma=4.5e-8 #kpc^3/(SolarMass)(age^2) age=10^8 years"
   ]
  },
  {
   "cell_type": "code",
   "execution_count": 247,
   "metadata": {
    "collapsed": true
   },
   "outputs": [],
   "source": [
    "def derivs(Rrv,t,M,S):\n",
    "    rx,ry,vx,vy,Rx,Ry,Vx,Vy=tuple(Rrv)\n",
    "\n",
    "    r=np.sqrt(rx**2+ry**2)\n",
    "    R=np.sqrt(Rx**2+Ry**2)\n",
    "    rhox=Rx-rx\n",
    "    rhoy=Ry-ry\n",
    "    rho=np.sqrt(rhox**2+rhoy**2)\n",
    " \n",
    "    drx = vx\n",
    "    dry = vy\n",
    "    dvx = -gamma*(M*rx/(r**3)-S*rhox/(rho**3)+S*Rx/(R**3))\n",
    "    dvy = -gamma*(M*ry/(r**3)-S*rhoy/(rho**3)+S*Ry/(R**3))\n",
    "    dRx = Vx\n",
    "    dRy = Vy\n",
    "    dVx = -gamma*(M+S)*Rx/(R**3)\n",
    "    dVy = -gamma*(M+S)*Ry/(R**3)\n",
    "    return np.array([drx,dry,dvx,dvy,dRx,dRy,dVx,dVy])"
   ]
  },
  {
   "cell_type": "code",
   "execution_count": 248,
   "metadata": {
    "collapsed": false
   },
   "outputs": [
    {
     "data": {
      "text/plain": [
       "array([  2.00000000e+00,   4.00000000e+00,  -7.82111694e-09,\n",
       "        -3.76954385e-08,   6.00000000e+00,   8.00000000e+00,\n",
       "        -7.06911317e-09,  -9.89675843e-09])"
      ]
     },
     "execution_count": 248,
     "metadata": {},
     "output_type": "execute_result"
    }
   ],
   "source": [
    "derivs(np.array([1,3,2,4,5,7,6,8]),10,10,10)"
   ]
  },
  {
   "cell_type": "code",
   "execution_count": 249,
   "metadata": {
    "collapsed": false
   },
   "outputs": [
    {
     "data": {
      "text/plain": [
       "array([  4.74004458e-02,   2.08501661e-01,  -1.68391414e-04,\n",
       "        -3.32242436e-03,   2.76001268e-01,   6.29528408e-02,\n",
       "        -1.86798544e-03,  -7.45420994e-04])"
      ]
     },
     "execution_count": 249,
     "metadata": {},
     "output_type": "execute_result"
    }
   ],
   "source": [
    "derivs(np.random.rand(8), 0.0, 1.0e4, 1.0e4)"
   ]
  },
  {
   "cell_type": "code",
   "execution_count": 265,
   "metadata": {
    "collapsed": false
   },
   "outputs": [],
   "source": [
    "def star_ic(M,radii,n):\n",
    "    ic=[]\n",
    "    for i in range(len(radii)):\n",
    "        r=radii[i]\n",
    "        N=n[i]\n",
    "        theta=np.linspace(0,2*np.pi,N)\n",
    "        for j in range(N):\n",
    "            x=r*np.cos(theta[j])\n",
    "            y=r*np.sin(theta[j])\n",
    "            v=np.sqrt(gamma*M/r)\n",
    "            dx=v*np.sin(theta[j])\n",
    "            dy=-v*np.cos(theta[j])\n",
    "            ic.append(np.array([x,y,dx,dy]))\n",
    "    return ic"
   ]
  },
  {
   "cell_type": "code",
   "execution_count": 266,
   "metadata": {
    "collapsed": false
   },
   "outputs": [],
   "source": [
    "a=star_ic(1.0e11,[.2*25,.4*25,.6*25],[12,20,30])"
   ]
  },
  {
   "cell_type": "code",
   "execution_count": 267,
   "metadata": {
    "collapsed": false
   },
   "outputs": [
    {
     "data": {
      "image/png": "[encoded data removed]",
      "text/plain": [
       "<matplotlib.figure.Figure at 0x7f1eb83bf128>"
      ]
     },
     "metadata": {},
     "output_type": "display_data"
    }
   ],
   "source": [
    "x=[i[0] for i in a]\n",
    "y=[i[1] for i in a]\n",
    "plt.figure(figsize=(7,7))\n",
    "plt.scatter(x,y);"
   ]
  },
  {
   "cell_type": "code",
   "execution_count": 268,
   "metadata": {
    "collapsed": false
   },
   "outputs": [],
   "source": [
    "def S_ic(y,r0,M,S):\n",
    "    x=-y**2/(4*r0)+r0\n",
    "    v=np.sqrt(2.0*gamma*(M+S)/np.sqrt(x**2+y**2))\n",
    "    a=np.arctan(2*r0/y)\n",
    "    vx=v*np.cos(a)\n",
    "    vy=-v*np.sin(a)\n",
    "    return np.array([x,y,vx,vy])"
   ]
  },
  {
   "cell_type": "code",
   "execution_count": 269,
   "metadata": {
    "collapsed": false
   },
   "outputs": [],
   "source": [
    "b=S_ic(75.0, 25.0, 1.0e11, 1.0e11)"
   ]
  },
  {
   "cell_type": "code",
   "execution_count": 270,
   "metadata": {
    "collapsed": false
   },
   "outputs": [
    {
     "data": {
      "image/png": "[encoded data removed]",
      "text/plain": [
       "<matplotlib.figure.Figure at 0x7f1eb842b2e8>"
      ]
     },
     "metadata": {},
     "output_type": "display_data"
    }
   ],
   "source": [
    "plt.figure(figsize=(10,10))\n",
    "plt.scatter(x,y)\n",
    "plt.scatter(b[0],b[1]);"
   ]
  },
  {
   "cell_type": "code",
   "execution_count": 271,
   "metadata": {
    "collapsed": true
   },
   "outputs": [],
   "source": [
    "def solve_one_star(ics, icg, M, S, tmax, ntimes):\n",
    "    t = np.linspace(0, tmax, ntimes)\n",
    "    ic = np.hstack([ics, icg])\n",
    "    soln = odeint(derivs, ic, t, args=(M,S))\n",
    "    return soln"
   ]
  },
  {
   "cell_type": "code",
   "execution_count": 272,
   "metadata": {
    "collapsed": false
   },
   "outputs": [],
   "source": [
    "soln = solve_one_star(a[0], b, 1.0e11, 1.0e11, 10.0, 500)"
   ]
  },
  {
   "cell_type": "code",
   "execution_count": 273,
   "metadata": {
    "collapsed": false
   },
   "outputs": [],
   "source": [
    "py = np.linspace(-100,100,100)\n",
    "r0 = 25.0\n",
    "px = -py**2/(4.0*r0) + r0"
   ]
  },
  {
   "cell_type": "code",
   "execution_count": 274,
   "metadata": {
    "collapsed": true
   },
   "outputs": [],
   "source": [
    "def plot_one_soln(soln, j, lim):\n",
    "    plt.scatter(soln[j,0], soln[j,1])\n",
    "    plt.scatter(soln[j,4], soln[j,5])\n",
    "    plt.scatter(0,0)\n",
    "    plt.plot(px,py)\n",
    "    plt.xlim(-lim,lim)\n",
    "    plt.ylim(-lim,lim)"
   ]
  },
  {
   "cell_type": "code",
   "execution_count": 275,
   "metadata": {
    "collapsed": false
   },
   "outputs": [
    {
     "data": {
      "image/png": "[encoded data removed]",
      "text/plain": [
       "<matplotlib.figure.Figure at 0x7f1eb86e7780>"
      ]
     },
     "metadata": {},
     "output_type": "display_data"
    }
   ],
   "source": [
    "interact(plot_one_soln, soln=fixed(soln), j=(0,499), lim=(25,200,5));"
   ]
  },
  {
   "cell_type": "code",
   "execution_count": 276,
   "metadata": {
    "collapsed": true
   },
   "outputs": [],
   "source": [
    "def solve_all_stars(ics, icg, M, S, tmax, ntimes):\n",
    "    solns = []\n",
    "    for ic in ics:\n",
    "        soln = solve_one_star(ic, icg, M, S, tmax, ntimes)\n",
    "        solns.append(soln)\n",
    "    return solns"
   ]
  },
  {
   "cell_type": "code",
   "execution_count": 277,
   "metadata": {
    "collapsed": false
   },
   "outputs": [
    {
     "name": "stdout",
     "output_type": "stream",
     "text": [
      "Excess work done on this call (perhaps wrong Dfun type).\n",
      "Run with full_output = 1 to get quantitative information.\n"
     ]
    }
   ],
   "source": [
    "solns = solve_all_stars(a, b, 1.0e11, 1.0e11, 10.0, 500)"
   ]
  },
  {
   "cell_type": "code",
   "execution_count": 278,
   "metadata": {
    "collapsed": false
   },
   "outputs": [],
   "source": [
    "def plot_all_solns(solns, j, lim):\n",
    "    x = np.array([soln[j,0] for soln in solns])\n",
    "    y = np.array([soln[j,1] for soln in solns])\n",
    "    X = np.array([soln[j,4] for soln in solns])\n",
    "    Y = np.array([soln[j,5] for soln in solns])\n",
    "    plt.scatter(x, y,color='green')\n",
    "    plt.scatter(X, Y,color='gold')\n",
    "    plt.scatter(0,0)\n",
    "    plt.plot(px,py)\n",
    "    plt.xlim(-lim,lim)\n",
    "    plt.ylim(-lim,lim);"
   ]
  },
  {
   "cell_type": "code",
   "execution_count": 279,
   "metadata": {
    "collapsed": false
   },
   "outputs": [
    {
     "data": {
      "image/png": "[encoded data removed]",
      "text/plain": [
       "<matplotlib.figure.Figure at 0x7f1eb8780c50>"
      ]
     },
     "metadata": {},
     "output_type": "display_data"
    }
   ],
   "source": [
    "plt.figure(figsize=(6,6))\n",
    "interact(plot_all_solns, solns=fixed(solns), j=(0,499), lim=(25,200,5));"
   ]
  },
  {
   "cell_type": "code",
   "execution_count": null,
   "metadata": {
    "collapsed": true
   },
   "outputs": [],
   "source": []
  }
 ],
 "metadata": {
  "kernelspec": {
   "display_name": "Python 3",
   "language": "python",
   "name": "python3"
  },
  "language_info": {
   "codemirror_mode": {
    "name": "ipython",
    "version": 3
   },
   "file_extension": ".py",
   "mimetype": "text/x-python",
   "name": "python",
   "nbconvert_exporter": "python",
   "pygments_lexer": "ipython3",
   "version": "3.4.0"
  }
 },
 "nbformat": 4,
 "nbformat_minor": 0
}
